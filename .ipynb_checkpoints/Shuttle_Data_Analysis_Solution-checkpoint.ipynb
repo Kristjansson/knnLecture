{
 "cells": [
  {
   "cell_type": "code",
   "execution_count": 12,
   "metadata": {
    "collapsed": false
   },
   "outputs": [],
   "source": [
    "import matplotlib.pyplot as plt\n",
    "%matplotlib inline\n",
    "\n",
    "# load data\n",
    "with open(\"shuttle_train.data\", 'r') as raw_training_data:\n",
    "    processed_training_data = [[float(str.strip(x)) for x in str.split(raw_datum, \" \")] for raw_datum in raw_training_data]\n",
    "    processed_training_data = [(datapoint[0:-2], datapoint[-1]) for datapoint in processed_training_data]\n",
    "\n",
    "with open(\"shuttle_test.data\", 'r') as raw_test_data:\n",
    "    processed_test_data = [[float(str.strip(x)) for x in str.split(raw_datum, \" \")] for raw_datum in raw_test_data]\n",
    "    processed_test_data = [(datapoint[0:-2], datapoint[-1]) for datapoint in processed_test_data]"
   ]
  },
  {
   "cell_type": "code",
   "execution_count": 13,
   "metadata": {
    "collapsed": true
   },
   "outputs": [],
   "source": [
    "from collections import Counter\n",
    "import math\n",
    "\n",
    "classes = [x[-1] for x in processed_training_data]\n",
    "labelFrequency = Counter(classes)\n",
    "\n",
    "def distance(vec1, vec2):\n",
    "    \"\"\"assumes that vectors are equal dimension and numerical\"\"\"\n",
    "    squareDifference = [(v2 - v1)**2 for (v1, v2) in zip(vec1, vec2)]\n",
    "    return math.sqrt(reduce(lambda x, y: x+y, squareDifference))\n",
    "\n",
    "def majority_vote(labels):\n",
    "    \"\"\"assumes that labels are ordered from nearest to farthest\"\"\"\n",
    "    vote_counts = Counter(labels)\n",
    "#     normalized_vote_counts = Counter({label:float(vote_counts[label])/labelFrequency[label] for label in vote_counts})\n",
    "    winner, winner_count = vote_counts.most_common(1)[0]\n",
    "    num_winners = len([count \n",
    "                       for count in vote_counts.values()\n",
    "                       if count == winner_count])\n",
    "\n",
    "    if num_winners == 1:\n",
    "        return winner                     # unique winner, so return it\n",
    "    else:\n",
    "        return majority_vote(labels[:-1]) # try again without the farthest\n",
    "\n",
    "def knn_classify(k, labeled_points, new_point):\n",
    "    \"\"\"each labeled point should be a pair (point, label)\"\"\"\n",
    "    \n",
    "    # order the labeled points from nearest to farthest\n",
    "    by_distance = sorted(labeled_points,\n",
    "                         key=lambda (point, _): distance(point, new_point))\n",
    "\n",
    "    # find the labels for the k closest\n",
    "    k_nearest_labels = [label for _, label in by_distance[:k]]\n",
    "\n",
    "    # and let them vote\n",
    "    return majority_vote(k_nearest_labels)"
   ]
  },
  {
   "cell_type": "code",
   "execution_count": 20,
   "metadata": {
    "collapsed": false
   },
   "outputs": [
    {
     "name": "stdout",
     "output_type": "stream",
     "text": [
      "Accuracy at iteration 100 = 0.99\n",
      "Accuracy at iteration 200 = 0.99\n",
      "Accuracy at iteration 300 = 1.00\n",
      "Accuracy at iteration 400 = 1.00\n",
      "Accuracy at iteration 500 = 1.00\n",
      "Accuracy at iteration 600 = 1.00\n",
      "Accuracy at iteration 700 = 1.00\n",
      "Accuracy at iteration 800 = 1.00\n",
      "Accuracy at iteration 900 = 1.00\n",
      "Accuracy at iteration 1000 = 1.00\n",
      "Accuracy at iteration 1100 = 1.00\n",
      "Accuracy at iteration 1200 = 1.00\n",
      "Accuracy at iteration 1300 = 1.00\n",
      "Accuracy at iteration 1400 = 1.00\n",
      "Accuracy at iteration 1500 = 1.00\n",
      "Accuracy at iteration 1600 = 1.00\n",
      "Accuracy at iteration 1700 = 1.00\n",
      "Accuracy at iteration 1800 = 1.00\n",
      "Accuracy at iteration 1900 = 1.00\n",
      "Accuracy at iteration 2000 = 1.00\n",
      "Accuracy at iteration 2100 = 1.00\n",
      "Accuracy at iteration 2200 = 1.00\n",
      "Accuracy at iteration 2300 = 1.00\n",
      "Accuracy at iteration 2400 = 1.00\n",
      "Accuracy at iteration 2500 = 1.00\n",
      "Accuracy at iteration 2600 = 1.00\n",
      "Accuracy at iteration 2700 = 1.00\n",
      "Accuracy at iteration 2800 = 1.00\n",
      "Accuracy at iteration 2900 = 1.00\n",
      "Accuracy at iteration 3000 = 1.00\n",
      "Accuracy at iteration 3100 = 1.00\n",
      "Accuracy at iteration 3200 = 1.00\n",
      "Accuracy at iteration 3300 = 1.00\n",
      "Accuracy at iteration 3400 = 1.00\n",
      "Accuracy at iteration 3500 = 1.00\n",
      "Accuracy at iteration 3600 = 1.00\n",
      "Accuracy at iteration 3700 = 1.00\n",
      "Accuracy at iteration 3800 = 1.00\n",
      "Accuracy at iteration 3900 = 1.00\n",
      "Accuracy at iteration 4000 = 1.00\n",
      "Accuracy at iteration 4100 = 1.00\n",
      "Accuracy at iteration 4200 = 1.00\n",
      "Accuracy at iteration 4300 = 1.00\n",
      "Accuracy at iteration 4400 = 1.00\n",
      "Accuracy = 1.00\n"
     ]
    }
   ],
   "source": [
    "def run_test(test_data_entry, k=1):\n",
    "    predicted_label = knn_classify(k, processed_training_data, test_data_entry[0])\n",
    "    given_label = test_data_entry[1]\n",
    "    return 1 if given_label == predicted_label else 0;\n",
    "\n",
    "test_results = range(0, len(processed_test_data))\n",
    "for idx, datum in enumerate(processed_test_data):\n",
    "    test_results[idx] = run_test(datum)\n",
    "    if idx != 0 and idx % 100 == 0:\n",
    "        print \"\"\"Accuracy at iteration %d = %0.2f\"\"\"%(idx, float(sum(test_results[0:idx])) / len(test_results[0:idx]))\n",
    "    \n",
    "accuracy = float(sum(test_results)) / len(test_results)\n",
    "print \"\"\"Accuracy = %0.2f\"\"\"%(accuracy)"
   ]
  },
  {
   "cell_type": "code",
   "execution_count": 30,
   "metadata": {
    "collapsed": false
   },
   "outputs": [
    {
     "name": "stdout",
     "output_type": "stream",
     "text": [
      "Counter({1.0: 3470, 4.0: 683, 5.0: 231, 3.0: 13, 2.0: 5})\n",
      "Counter({1.0: 30666, 4.0: 6071, 5.0: 2228, 3.0: 119, 2.0: 32, 7.0: 11, 6.0: 6})\n",
      "0.999091322126\n"
     ]
    }
   ],
   "source": [
    "print Counter([datum[1] for datum in processed_test_data])\n",
    "print Counter([datum[1] for datum in processed_training_data])\n",
    "print accuracy"
   ]
  }
 ],
 "metadata": {
  "kernelspec": {
   "display_name": "Python 2",
   "language": "python",
   "name": "python2"
  },
  "language_info": {
   "codemirror_mode": {
    "name": "ipython",
    "version": 2
   },
   "file_extension": ".py",
   "mimetype": "text/x-python",
   "name": "python",
   "nbconvert_exporter": "python",
   "pygments_lexer": "ipython2",
   "version": "2.7.11"
  }
 },
 "nbformat": 4,
 "nbformat_minor": 0
}
