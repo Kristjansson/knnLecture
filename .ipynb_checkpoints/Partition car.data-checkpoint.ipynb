{
 "cells": [
  {
   "cell_type": "code",
   "execution_count": 24,
   "metadata": {
    "collapsed": true
   },
   "outputs": [],
   "source": [
    "import math\n",
    "import random\n",
    "\n",
    "# Here the goal is to partition car.data into a training and set set.\n",
    "\n",
    "# buying:   vhigh, high, med, low.\n",
    "# maint:    vhigh, high, med, low.\n",
    "# doors:    2, 3, 4, 5more.\n",
    "# persons:  2, 4, more.\n",
    "# lug_boot: small, med, big.\n",
    "# safety:   low, med, high.\n",
    "# label:    unacc, acc, good, vgood\n",
    "buying_conv = {'vhigh':4, 'high':3, 'med':2, 'low':1}\n",
    "maint_conv = {'vhigh':4, 'high':3, 'med':2, 'low':1}\n",
    "doors_conv = {'2': 2, '3': 3, '4': 4, '5more': 5}\n",
    "persons_conv = {'2': 2, '4': 4, 'more': 5}\n",
    "lug_boot_conv = {'small': 1, 'med': 2, 'big': 3}\n",
    "safety_conv = {'low': 1, 'med': 2, 'high': 3}\n",
    "label_conv = {'unacc': 1, 'acc':2, 'good':3, 'vgood':4}\n",
    "def convertLine(buying, maint, doors, persons, lug_boot, safety, label):\n",
    "    return \"\"\"%d,%d,%d,%d,%d,%d,%d\\n\"\"\"%(buying_conv[buying],\n",
    "                                       maint_conv[maint],\n",
    "                                       doors_conv[doors],\n",
    "                                       persons_conv[persons],\n",
    "                                       lug_boot_conv[lug_boot],\n",
    "                                       safety_conv[safety],\n",
    "                                       label_conv[label])"
   ]
  },
  {
   "cell_type": "code",
   "execution_count": 25,
   "metadata": {
    "collapsed": false
   },
   "outputs": [],
   "source": [
    "test_file = open(\"car_test.data\", \"w\")\n",
    "# test_file.seek(0)\n",
    "train_file = open(\"car_train.data\", \"w\")\n",
    "# train_file.seek(0)\n",
    "with open('car.data', 'r') as data:\n",
    "    for line_uc in data:\n",
    "        line_c = convertLine(*str.split(str.strip(line_uc), \",\"))\n",
    "        if math.floor(10*random.random()) == 1:\n",
    "            test_file.write(line_c)\n",
    "        else:\n",
    "            train_file.write(line_c)\n"
   ]
  },
  {
   "cell_type": "code",
   "execution_count": 15,
   "metadata": {
    "collapsed": false
   },
   "outputs": [
    {
     "data": {
      "text/plain": [
       "'[1, 4, 3, 2, 1, 1, 1]'"
      ]
     },
     "execution_count": 15,
     "metadata": {},
     "output_type": "execute_result"
    }
   ],
   "source": [
    "test = \"low,vhigh,3,2,small,low,unacc\"\n",
    "str(convertLine(*str.split(test, \",\")))"
   ]
  }
 ],
 "metadata": {
  "kernelspec": {
   "display_name": "Python 2",
   "language": "python",
   "name": "python2"
  },
  "language_info": {
   "codemirror_mode": {
    "name": "ipython",
    "version": 2
   },
   "file_extension": ".py",
   "mimetype": "text/x-python",
   "name": "python",
   "nbconvert_exporter": "python",
   "pygments_lexer": "ipython2",
   "version": "2.7.11"
  }
 },
 "nbformat": 4,
 "nbformat_minor": 0
}
