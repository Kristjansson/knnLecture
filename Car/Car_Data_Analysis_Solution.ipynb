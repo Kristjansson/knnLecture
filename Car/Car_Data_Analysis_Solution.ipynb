{
 "cells": [
  {
   "cell_type": "code",
   "execution_count": 43,
   "metadata": {
    "collapsed": false
   },
   "outputs": [],
   "source": [
    "import matplotlib.pyplot as plt\n",
    "%matplotlib inline\n",
    "\n",
    "# load data\n",
    "with open(\"car_train.data\", 'r') as raw_training_data:\n",
    "    processed_training_data = [[int(x) for x in str.split(raw_datum, \",\")] for raw_datum in raw_training_data]\n",
    "    processed_training_data = [(datapoint[0:-2], datapoint[-1]) for datapoint in processed_training_data]\n",
    "\n",
    "with open(\"car_test.data\", 'r') as raw_test_data:\n",
    "    processed_test_data = [[int(x) for x in str.split(raw_datum, \",\")] for raw_datum in raw_test_data]\n",
    "    processed_test_data = [(datapoint[0:-2], datapoint[-1]) for datapoint in processed_test_data]"
   ]
  },
  {
   "cell_type": "code",
   "execution_count": 93,
   "metadata": {
    "collapsed": false
   },
   "outputs": [],
   "source": [
    "from collections import Counter\n",
    "import math\n",
    "\n",
    "classes = [x[-1] for x in processed_training_data]\n",
    "labelFrequency = Counter(classes)\n",
    "\n",
    "def distance(vec1, vec2):\n",
    "    \"\"\"assumes that vectors are equal dimension and numerical\"\"\"\n",
    "    squareDifference = [(v2 - v1)**2 for (v1, v2) in zip(vec1, vec2)]\n",
    "    return math.sqrt(reduce(lambda x, y: x+y, squareDifference))\n",
    "\n",
    "def majority_vote(labels):\n",
    "    \"\"\"assumes that labels are ordered from nearest to farthest\"\"\"\n",
    "    vote_counts = Counter(labels)\n",
    "    normalized_vote_counts = Counter({label:float(vote_counts[label])/labelFrequency[label] for label in vote_counts})\n",
    "    winner, winner_count = normalized_vote_counts.most_common(1)[0]\n",
    "    num_winners = len([count \n",
    "                       for count in normalized_vote_counts.values()\n",
    "                       if count == winner_count])\n",
    "\n",
    "    if num_winners == 1:\n",
    "        return winner                     # unique winner, so return it\n",
    "    else:\n",
    "        return majority_vote(labels[:-1]) # try again without the farthest\n",
    "\n",
    "def knn_classify(k, labeled_points, new_point):\n",
    "    \"\"\"each labeled point should be a pair (point, label)\"\"\"\n",
    "    \n",
    "    # order the labeled points from nearest to farthest\n",
    "    by_distance = sorted(labeled_points,\n",
    "                         key=lambda (point, _): distance(point, new_point))\n",
    "\n",
    "    # find the labels for the k closest\n",
    "    k_nearest_labels = [label for _, label in by_distance[:k]]\n",
    "\n",
    "    # and let them vote\n",
    "    return majority_vote(k_nearest_labels)"
   ]
  },
  {
   "cell_type": "code",
   "execution_count": 72,
   "metadata": {
    "collapsed": false
   },
   "outputs": [
    {
     "name": "stdout",
     "output_type": "stream",
     "text": [
      "Accuracy = 0.70\n"
     ]
    }
   ],
   "source": [
    "def run_test(test_data_entry, k=1):\n",
    "    predicted_label = knn_classify(k, processed_training_data, test_data_entry[0])\n",
    "    given_label = test_data_entry[1]\n",
    "    return 1 if given_label == predicted_label else 0;\n",
    "\n",
    "test_results = [run_test(datum) for datum in processed_test_data]\n",
    "accuracy = float(sum(test_results)) / len(test_results)\n",
    "print \"\"\"Accuracy = %0.2f\"\"\"%(accuracy)"
   ]
  },
  {
   "cell_type": "code",
   "execution_count": 73,
   "metadata": {
    "collapsed": false
   },
   "outputs": [
    {
     "data": {
      "text/plain": [
       "[<matplotlib.lines.Line2D at 0x837cb38>]"
      ]
     },
     "execution_count": 73,
     "metadata": {},
     "output_type": "execute_result"
    },
    {
     "data": {
      "image/png": "[encoded data removed]",
      "text/plain": [
       "<matplotlib.figure.Figure at 0x719b6d8>"
      ]
     },
     "metadata": {},
     "output_type": "display_data"
    }
   ],
   "source": [
    "K_RANGE = range(1, 50)\n",
    "accuracy_for_k = range(0, len(K_RANGE)) # Only as placeholder\n",
    "for idx, k in enumerate(K_RANGE):\n",
    "    test_results = [run_test(datum, k) for datum in processed_test_data]\n",
    "    accuracy_for_k[idx] = float(sum(test_results)) / len(test_results)\n",
    "    \n",
    "plt.plot(K_RANGE, accuracy_for_k)"
   ]
  },
  {
   "cell_type": "code",
   "execution_count": 79,
   "metadata": {
    "collapsed": false
   },
   "outputs": [
    {
     "name": "stdout",
     "output_type": "stream",
     "text": [
      "0.737373737374\n",
      "0.737373737374\n"
     ]
    }
   ],
   "source": [
    "print max(accuracy_for_k)\n",
    "print accuracy_for_k[17]"
   ]
  },
  {
   "cell_type": "code",
   "execution_count": 95,
   "metadata": {
    "collapsed": false
   },
   "outputs": [
    {
     "data": {
      "text/plain": [
       "[<matplotlib.lines.Line2D at 0x8998ba8>]"
      ]
     },
     "execution_count": 95,
     "metadata": {},
     "output_type": "execute_result"
    },
    {
     "data": {
      "image/png": "[encoded data removed]",
      "text/plain": [
       "<matplotlib.figure.Figure at 0x86c2048>"
      ]
     },
     "metadata": {},
     "output_type": "display_data"
    }
   ],
   "source": [
    "K_RANGE = range(1, 2)\n",
    "accuracy_for_k = range(0, len(K_RANGE)) # Only as placeholder\n",
    "for idx, k in enumerate(K_RANGE):\n",
    "    test_results = [run_test(datum, k) for datum in processed_training_data]\n",
    "    accuracy_for_k[idx] = float(sum(test_results)) / len(test_results)\n",
    "    \n",
    "plt.plot(K_RANGE, accuracy_for_k)"
   ]
  },
  {
   "cell_type": "code",
   "execution_count": 110,
   "metadata": {
    "collapsed": false
   },
   "outputs": [
    {
     "name": "stdout",
     "output_type": "stream",
     "text": [
      "([4, 4, 2, 2, 1], 1)\n",
      "[([4, 4, 2, 2, 1], 1), ([4, 4, 2, 2, 1], 1), ([4, 4, 2, 2, 1], 1), ([4, 4, 2, 2, 2], 1), ([4, 4, 2, 2, 2], 1), ([4, 4, 2, 2, 2], 1), ([4, 4, 3, 2, 1], 1), ([4, 4, 3, 2, 1], 1), ([4, 3, 2, 2, 1], 1), ([4, 3, 2, 2, 1], 1)]\n",
      "1\n"
     ]
    }
   ],
   "source": [
    "by_distance = sorted(processed_training_data,\n",
    "                         key=lambda (point, _): distance(point, processed_training_data[0][0]))[0:10]\n",
    "print processed_training_data[0]\n",
    "print by_distance\n",
    "\n",
    "print run_test(processed_training_data[0], 40)"
   ]
  },
  {
   "cell_type": "code",
   "execution_count": null,
   "metadata": {
    "collapsed": true
   },
   "outputs": [],
   "source": []
  }
 ],
 "metadata": {
  "kernelspec": {
   "display_name": "Python 2",
   "language": "python",
   "name": "python2"
  },
  "language_info": {
   "codemirror_mode": {
    "name": "ipython",
    "version": 2
   },
   "file_extension": ".py",
   "mimetype": "text/x-python",
   "name": "python",
   "nbconvert_exporter": "python",
   "pygments_lexer": "ipython2",
   "version": "2.7.11"
  }
 },
 "nbformat": 4,
 "nbformat_minor": 0
}
